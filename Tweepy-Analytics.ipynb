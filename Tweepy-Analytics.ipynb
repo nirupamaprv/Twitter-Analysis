{
 "cells": [
  {
   "cell_type": "code",
   "execution_count": 1,
   "metadata": {
    "collapsed": true
   },
   "outputs": [],
   "source": [
    "import tweepy"
   ]
  },
  {
   "cell_type": "code",
   "execution_count": 3,
   "metadata": {
    "collapsed": true
   },
   "outputs": [],
   "source": [
    "# set up authentication\n",
    "auth = tweepy.OAuthHandler(\"\", \"\")\n",
    "auth.set_access_token(\"\", \"\")"
   ]
  },
  {
   "cell_type": "code",
   "execution_count": 4,
   "metadata": {
    "collapsed": true
   },
   "outputs": [],
   "source": [
    "# connect to api\n",
    "#add wait limit to counter Twitter Streaming API limit\n",
    "api = tweepy.API(auth, wait_on_rate_limit=True) "
   ]
  },
  {
   "cell_type": "code",
   "execution_count": 5,
   "metadata": {},
   "outputs": [
    {
     "name": "stdout",
     "output_type": "stream",
     "text": [
      "\n",
      "A 5:00 Sales Blast moved this sales manager's team from 4th place to 1st within 8 weeks. https://t.co/6EhYdodHaB https://t.co/urm6EGl360\n",
      "\n",
      "Why did you wake up today? https://t.co/WGNG3SpNgL #genderequality \n",
      "#feminism #metoo https://t.co/QDYOAQVp5F\n",
      "\n",
      "RT @SinghLions: Meet 4-year-old painter prodigy, Advait Kolarkar\n",
      "\n",
      "This pre-schooler is already selling abstract paintings for thousands of…\n",
      "\n",
      "RT @benjaminkwalker: Conquer yourself rather than the world. - Descartes #quote https://t.co/POH8tcr0Un\n",
      "\n",
      "Download your FREE issue of Social Selling Made Easy Magazine! Available now on the App Store and Google Play.… https://t.co/NWSIlLkO9K\n",
      "\n",
      "AI Beats Experts At Diagnosing Childhood Disease\n",
      "\n",
      "Read more here: https://t.co/1nDBXbjPRs\n",
      "\n",
      "#ArtificialIntelligence… https://t.co/nplXBYsbBG\n",
      "\n",
      "Pacific Star Devt partners holiday home blockchain startup - A WHOLLY-OWNED unit of Catalist-listed developer Pacif… https://t.co/WwnLIlgqd7\n",
      "\n",
      "Freddie Mac leverages big data to improve the mortgage lending experience\n",
      "\n",
      "Read more here: https://t.co/fyO9GlTtXA… https://t.co/wBV44wKnFb\n",
      "\n",
      "Why failure is a powerful experience to find inspiration: \n",
      "https://t.co/kBEBakwJ7K #leadership\n",
      "#strategy \n",
      "#vision https://t.co/MB8uSugnHJ\n",
      "\n",
      "RT @wallybock: #Leadership Quote: \"CEOs ought to be looking at things they don't understand rather than things they do.\" ~ James Womack\n",
      "\n",
      "Diversification wins. The more diversified your skillset, the better. The more diversified your investments, the be… https://t.co/U8A9GUcPzB\n",
      "\n",
      "Those who focus on the thoughts and interests do better than those who focus of feelings. @DanielPink https://t.co/lMJdZIlJha\n",
      "\n",
      "The Remarkable Power of the Truth Teller @LollyDaskal https://t.co/JDerviwyYz  #Leadership #HR\n",
      "\n",
      "9 examples of clever, creative 404 pages: https://t.co/uFfO1NLUr5\n",
      "\n",
      "Some inspiration to make your 404 page a delight… https://t.co/NDy3JEWH6n\n",
      "\n",
      "Agile and Lean teams learn by doing! @ssurdek via @forbes #leadership #business https://t.co/hwOhEXp3Ik\n",
      "\n",
      "How to Boost Customer Retention With Web Push Notifications #pushnotifications #customeretention… https://t.co/GqRAsFAhi5\n",
      "\n",
      "Why you have to understand that you can never control how other people see you: https://t.co/xjZzj7UwWb #happiness… https://t.co/AW0iU3IF7F\n",
      "\n",
      "Pacific Star Devt partners holiday home blockchain startup - https://t.co/mFp9CzgYmY\n",
      "\n",
      "Google is putting its money where its mouth is https://t.co/eDwFjxK6wb\n",
      "\n",
      "Why is segmentation so important for your business? \n",
      "https://t.co/Ah6OKqWJAF #leadership\n",
      "#wisdom https://t.co/1OWvlxKLQ3\n"
     ]
    }
   ],
   "source": [
    "# download self home timeline tweets and print each one's texts to the console\n",
    "# default count =20\n",
    "public_tweets = api.home_timeline() \n",
    "for tweet in public_tweets:\n",
    "    print(\"\\n\"+tweet.text)"
   ]
  },
  {
   "cell_type": "code",
   "execution_count": 6,
   "metadata": {},
   "outputs": [
    {
     "name": "stdout",
     "output_type": "stream",
     "text": [
      "\n",
      "RT @MrThreadzilla: I view programming as a form of writing.\n",
      "\n",
      "WRITING: communicating with people\n",
      "PROGRAMMING: communicating with computers…\n",
      "\n",
      "A 5:00 Sales Blast moved this sales manager's team from 4th place to 1st within 8 weeks. https://t.co/6EhYdodHaB https://t.co/urm6EGl360\n",
      "\n",
      "Why did you wake up today? https://t.co/WGNG3SpNgL #genderequality \n",
      "#feminism #metoo https://t.co/QDYOAQVp5F\n",
      "\n",
      "RT @SinghLions: Meet 4-year-old painter prodigy, Advait Kolarkar\n",
      "\n",
      "This pre-schooler is already selling abstract paintings for thousands of…\n",
      "\n",
      "RT @benjaminkwalker: Conquer yourself rather than the world. - Descartes #quote https://t.co/POH8tcr0Un\n"
     ]
    }
   ],
   "source": [
    "# download self home timeline tweets and print each one's texts to the console\n",
    "# default count =20\n",
    "public_tweets = api.home_timeline(count = 5) \n",
    "for tweet in public_tweets:\n",
    "    print(\"\\n\"+tweet.text)"
   ]
  },
  {
   "cell_type": "markdown",
   "metadata": {},
   "source": [
    "#### Returns full Tweet objects for up to 100 tweets per request, specified by the id parameter.\n",
    "public_statuses = api.statuses_lookup('nirupamaprv') \n",
    "for status in public_statuses:\n",
    "    print(str(status['id'])+str(tweet['text']))"
   ]
  },
  {
   "cell_type": "code",
   "execution_count": 28,
   "metadata": {},
   "outputs": [],
   "source": [
    "#Returns the 20 most recent statuses posted from the authenticating user or the user specified\n",
    "# add account_name for self\n",
    "#public_statuses = api.user_timeline('') \n",
    "#for status in public_statuses:\n",
    "#    print(status)"
   ]
  },
  {
   "cell_type": "code",
   "execution_count": 12,
   "metadata": {},
   "outputs": [
    {
     "name": "stdout",
     "output_type": "stream",
     "text": [
      "April : Portfolio Update – Lessons and Learning #datascience #learning #code https://t.co/LdD8RI1TIB\n",
      "Yummy Italian at Olive Garden https://t.co/Dt9mNLwCaX https://t.co/bb7c1jUm9O\n",
      "April : Portfolio Update https://t.co/LdD8RI1TIB https://t.co/4aGNmeAsqR\n",
      "Leadership &amp; Management Books for Women, By Women (25 books) | Goodreads https://t.co/vOLe8wTUAw\n",
      "David vs. Goliath: How Niche Agencies Can Triumph in 2018 https://t.co/e7UXs7JmGf via @@heyorca\n",
      "How to Tell People What You Do—and Be Remembered https://t.co/cPRsT9PbGw via @TheMuse @Alex_Franzen\n",
      "RT @jeffbullas: 4 Things World Class Content Marketers Do Every Time They Create Content #contentmarketing… https://t.co/dhIlumoyKk\n",
      "Understanding my Twitter Followers and their Interests: Practical Data Science and learning using Twitter Analytics… https://t.co/kAXubdf4M3\n",
      "My Viz on Arctic Sea Ice Extent with Data from at Makeover Monday [Apr9 set] : https://t.co/tnyxvDeMdV via @tableaupublic #tableau\n",
      "RT @tedprodromou: An Absurdly Easy Way to Improve Your SEO https://t.co/iSQhZKI5pT https://t.co/agzG9228Et\n",
      "Investigating Movies and Revenues: Practical Data Science and Analytics  https://t.co/SGhfGyqZy3\n",
      "Analyzing my Personal Blog- Practical Data Science: getting Stats &amp; Insights #DataScience #Analytics https://t.co/IJYjnHhMhY\n",
      "4 Strategies to Get Your Content Seen and Drive Engagement https://t.co/d7eaAmLC8t via @strong__content\n",
      "Springfield, Illinois- quick Spring break weekend getaway for Chicagoans: https://t.co/NhfK6M5LWM #Travel #SpringBreakIdeas #LandofLincoln\n",
      "An Analytical look at the world of Showbiz: https://t.co/jmWUkT8t9m #MovieDatasets #IMDbDataset #DataScience\n",
      "How to create content for your Data Science Blog: https://t.co/1OFhsM5wVM #DataScience #blogging #Portfolio\n",
      "Don't fall for the \"A Job well done speaks for Itself\" myth. Learning from book by @PeggyKlaus and her improved web… https://t.co/H9Fn6LaaeB\n",
      "6 Highly Effective Ways to Collect Leads Via Your Blog https://t.co/n6q1onv7tl via @problogger #blogging #marketing #LeadGeneration\n",
      "Research work on Diversity Strategies employed in India: My published academic  Business Papers:… https://t.co/R4f5wj2rei\n",
      "\"Reinvention Roadmap\" by @humanworkplace - an Essential Reading for taking charge of your career in a disruptive, e… https://t.co/C2DdZop05P\n"
     ]
    }
   ],
   "source": [
    "#Returns the 20 most recent statuses posted from the authenticating user or the user specified\n",
    "public_retweets = api.retweets_of_me() \n",
    "for retweet in public_retweets:\n",
    "    print(retweet._json['text'])"
   ]
  },
  {
   "cell_type": "code",
   "execution_count": 14,
   "metadata": {},
   "outputs": [
    {
     "name": "stdout",
     "output_type": "stream",
     "text": [
      "@Nirupamaprv Thanks\n",
      "RT @nirupamaprv: Problem of Plenty: Prioritize your Opportunities with this checklist via @HarvardBiz :… https://t.co/VuQg1d6SZW\n",
      "RT @nirupamaprv: Problem of Plenty: Prioritize your Opportunities with this checklist via @HarvardBiz :… https://t.co/1EyxXTsBJf\n",
      "@Nirupamaprv @tableau Nice!\n",
      "@Nirupamaprv? here's an #Infographic on how to make #ABM work for you by infusing #AI into the process. https://t.co/kzm8wZX4DE\n",
      "RT @Nirupamaprv: Blog Post Ideas for a Data Science Student Blog #DataScience #learning https://t.co/QRbZaa1nSO\n",
      "RT @Nirupamaprv: Tips to study for online courses: my answer on Quora: https://t.co/7Z6oQkoIUu #learning  #MOOC #education\n",
      "RT @Nirupamaprv: Want to read more Business and Management books by Women authors? Use these lists:… https://t.co/LmzXOBF1d5\n",
      "RT @Nirupamaprv: 7 Python Data Science Influencers to Follow https://t.co/mARscV7eEF via @ModeAnalytics\n"
     ]
    }
   ],
   "source": [
    "#Returns the 20 most recent mentions posted from the authenticating user or the user specified\n",
    "public_mentions = api.mentions_timeline() \n",
    "for mention in public_mentions:\n",
    "    print(mention._json['text'])"
   ]
  },
  {
   "cell_type": "code",
   "execution_count": 26,
   "metadata": {},
   "outputs": [],
   "source": [
    "# Returns a single status specified by the ID parameter.\n",
    "# Requires numerical ID of the status.\n",
    "# print(api.get_status(\"4705518672\"))\n",
    "\n",
    "# update status without storing return object\n",
    "#api.update_status(\"Using Tweepy and Python to tweet! Coding fun!\")"
   ]
  },
  {
   "cell_type": "code",
   "execution_count": 27,
   "metadata": {
    "collapsed": true
   },
   "outputs": [],
   "source": [
    "# update status where storing return object\n",
    "#status_update_object = api.update_status(\"Posting tweets using Tweepy and Python- Coding fun! #Python #tweepy #coding\")"
   ]
  },
  {
   "cell_type": "code",
   "execution_count": 25,
   "metadata": {},
   "outputs": [],
   "source": [
    "# update status where storing return object with image\n",
    "#file_path= '/Users/nirupamaprv/Downloads/Dorie-Clark-Entrepreneurial-You-audiobook-reading-goals-tips.jpeg'\n",
    "#status_update_object = api.update_status(\"Inspired by Dorie Clark's excellent book\", filename=file_path)"
   ]
  },
  {
   "cell_type": "code",
   "execution_count": 8,
   "metadata": {
    "collapsed": true
   },
   "outputs": [],
   "source": [
    " # invoke an API method and get the User object for account called 'twitter'...\n",
    "user = api.get_user('twitter')"
   ]
  },
  {
   "cell_type": "code",
   "execution_count": 6,
   "metadata": {
    "collapsed": true
   },
   "outputs": [],
   "source": [
    "# invoke an API method and get the User object for self account\n",
    "user = api.get_user('nirupamaprv')"
   ]
  },
  {
   "cell_type": "code",
   "execution_count": null,
   "metadata": {},
   "outputs": [
    {
     "name": "stdout",
     "output_type": "stream",
     "text": [
      "Nirupamaprv\n",
      "501\n",
      "LannySCohen\n",
      "eBiz_NYC\n",
      "MAC5WebDesign\n",
      "scottayres\n",
      "EverythingCont\n",
      "philip_uglow\n",
      "RohanChaubey4\n",
      "NearMeCo\n",
      "yaromancebooks\n",
      "penguinlive\n",
      "AdrienRahier\n",
      "wzchen\n",
      "kimschob\n",
      "lbuffjones\n",
      "tedprodromou\n",
      "Gary3vans\n",
      "fdouetteau\n",
      "saragossagroup\n",
      "MrJustinBarclay\n",
      "BestSalesTips\n"
     ]
    }
   ],
   "source": [
    "# Models contain the data and some helper methods -extract those\n",
    "print(user.screen_name) \n",
    "print(user.followers_count) \n",
    "for friend in user.friends():\n",
    "    print(friend.screen_name)"
   ]
  },
  {
   "cell_type": "code",
   "execution_count": null,
   "metadata": {},
   "outputs": [
    {
     "name": "stdout",
     "output_type": "stream",
     "text": [
      "Lanny Cohen\n",
      "eBiz NYC\n",
      "Mark Collins\n",
      "Scott Ayres\n",
      "Everything Content\n",
      "Phil Uglow\n",
      "Rohan Chaubey👨🏻‍💻\n",
      "Near Me\n",
      "Ya Romance Books\n",
      "Penguin Live\n",
      "Adrien Rahier 🇬🇧\n",
      "William Chen\n",
      "Kim Schob 🌵\n",
      "Lauren B. Jones\n",
      "Ted Prodromou\n",
      "Gary Evans\n",
      "Florian Douetteau\n",
      "The Saragossa Group\n",
      "Justin Barclay\n",
      "Alice Kemper\n",
      "C-suite Branding\n",
      "Adam Broadway\n",
      "Shanks®\n",
      "Gina Stepp\n",
      "Sandra Clayton\n",
      "Jill Therese Pural\n",
      "Cody Price\n",
      "Ebong Eka\n",
      "Akash Kandari\n",
      "Andreea Dutescu\n",
      "You Brand\n",
      "Sara McGuire\n",
      "GetMyBookOutThere\n",
      "SM Manager School\n",
      "Nathan Latka\n",
      "Brandon Birkmeyer\n",
      "Justin Wu - Blockchain Growth\n",
      "David Venturi\n",
      "Mat Leonard\n",
      "Damon Pistulka\n",
      "deb talbot\n",
      "Joel Bower\n",
      "Julie Woods-Moss\n",
      "Udemy\n",
      "Rachel Surges\n",
      "Dan Hughes  📲🌎\n",
      "SERPs Boost 🔥\n",
      "YouGov\n",
      "Blogwriter365\n",
      "Samuel Pavin 🤓🚀\n",
      "Larry Kim\n",
      "Adrian Bourcevet\n",
      "entrepfacts\n",
      "Eric Babcock\n",
      "Yves Mulkers\n",
      "Michelle T Lederman\n",
      "Shawn Elledge\n",
      "Jamie Moya\n",
      "Karla McDougall\n",
      "Lama Jabr: Amazon Publishing Consultant\n",
      "Jeff Payne\n",
      "AnalyticsinHR\n",
      "Laura B\n",
      "Mallika\n",
      "David Leonhardt\n",
      "Martin Arens\n",
      "Lisa 🐥🐦🐤\n",
      "Mentionlytics\n",
      "Maura Nevel Thomas\n",
      "Diffbot\n",
      "Pulkit Gera\n",
      "Carla Johnson - Keynote Speaker\n",
      "Tapoly\n",
      "6Q.io\n",
      "Betty Stewart\n",
      "Madalyn Sklar 🚀#MKTGnation\n",
      "Sproutworth\n",
      "Spousecat\n",
      "Amy Pelkey\n",
      "Lois Moncrief\n",
      "BlogALiving\n",
      "RemoteCamp\n",
      "actiTIME\n",
      "Stephanie Neal\n",
      "SCORE Northwest Ohio\n",
      "Richard Pimblott\n",
      "Chris Michael Harris\n",
      "William Harris\n",
      "Social Heat\n",
      "VBP\n",
      "Crystal Davidson\n",
      "Patrick Henry\n",
      "Kelli Williams\n",
      "Sebastian Kull\n",
      "InvestFourMore\n",
      "Strong Content\n",
      "Miles Burke\n",
      "Cam & Nicole\n",
      "Medium\n",
      "Freerice.com\n",
      "Aby Moore\n",
      "Iris Sasaki\n",
      "John Lincoln\n",
      "Tamay\n",
      "Michael Sonnenfeldt\n",
      "The Little French's Media\n",
      "FlynnHeathHolt\n",
      "Barney Loehnis\n",
      "Darren White\n",
      "Tina Yelle\n",
      "Bob Carver\n",
      "Jamie Nelson\n",
      "Ramya Ragupathy\n",
      "Kenneth Gillett\n",
      "Strategic Leadership\n",
      "133T.\n",
      "Verity Women\n",
      "Diana B. Warner\n",
      "Barnaby Wass\n",
      "noBSbizConsulting\n",
      "Udacity\n",
      "Tim Ferriss\n",
      "Matt Vaadi\n",
      "Ryan Robinson\n",
      "Nick Robinson\n",
      "Ramit Sethi\n",
      "John White\n",
      "Loretta Milan\n",
      "Ola Agbaimoni\n",
      "Carl Richards\n",
      "Clayton John Ainger\n",
      "Ines O'Donovan, PhD\n",
      "Keetria\n",
      "Women@Forbes\n",
      "🚀Sollevarsi SOCIAL\n",
      "𝕁𝕆ℍℕ 𝕃𝕀𝕄𝔻𝕀𝕄𝔸𝕊\n",
      "Henry Bendik\n",
      "Darcy Luoma (DLCC)\n",
      "Vigneswar Raj / வி\n",
      "Liz Ryan\n",
      "Webjets.io\n",
      "MediaTech Solutions\n",
      "Dinner Table MBA 🎓\n",
      "Johannes Ceh #ValueEnhancer\n",
      "Startups Co\n",
      "Carla Kroger\n",
      "Michael Brenner\n",
      "Christian Gericke\n",
      "TaskClone\n",
      "EmpowerizeHer\n",
      "Gerald Leonard PfMP\n",
      "Gabrielle Birnie\n",
      "Jeremy Schifeling\n",
      "BrandFIT\n",
      "Webutekk\n",
      "Dale East\n",
      "Steffan Surdek\n",
      "Adam Hutchinson\n",
      "Clayton Johnson\n",
      "Simple Startup\n",
      "Anthony Pisapia\n",
      "Daily Growth Hack\n",
      "Jacqui MackwayWilson\n",
      "Robert Imbriale\n",
      "David Campbell\n",
      "Steph Nissen #CollisionConf\n",
      "LesaI\n",
      "Larry Putterman\n",
      "BI_Scout\n",
      "Chris Greaves\n",
      "DATAVERSITY\n",
      "Laura Garnett\n",
      "HeidiCohen\n",
      "Leo Burnett\n",
      "Skillshare\n",
      "General Assembly\n",
      "GrowthHackers SEO\n",
      "LinkedIn\n",
      "Rob Turlinckx\n",
      "Susan Cork RGD\n",
      "Be Leaderly\n",
      "Women's Leadership\n",
      "Enterprising Women\n",
      "Women Entrepreneurs\n",
      "Pooja Gandhi\n",
      "Women in Business\n",
      "Matthew Tudge\n",
      "Tal Mikaelovich 😎\n",
      "Victoria Griffin\n",
      "Payman Taei\n",
      "Kree8 Branding\n",
      "Blog Writing Secrets\n",
      "Learn ContentWriting\n",
      "Smart Content Tips\n",
      "Content Strategies\n",
      "Nigameash Harihar\n",
      "Anita Nipane\n",
      "Whitney Blankenship\n",
      "BusinessIntelligence\n",
      "ContentMarketingTips\n",
      "Neha Singh\n",
      "Troy Christmas\n",
      "Copywriting Science\n",
      "Content Strategy\n",
      "Shashwat Pradhan\n",
      "Ahamadou Dramé\n",
      "Anne-Maria Yritys\n",
      "Data Insight\n",
      "Iain Brown, PhD\n",
      "Michael Neeley\n",
      "Naviga Recruiting\n",
      "Andrei Baklinau\n",
      "Cell Phone Lifestyle\n",
      "Don Burgess\n",
      "Oliver Durrer\n",
      "Response Labs\n",
      "John McGarry\n",
      "Ryan Sonnenberg\n",
      "Kirsten Oliphant ☕️\n",
      "Bobby Umar | Keynote Speaker\n",
      "M. Аskari\n",
      "RStudio\n",
      "Content Marketing\n",
      "Ann Handley\n",
      "Mark Schaefer\n",
      "Duncan Connor\n",
      "Peg Fitzpatrick ✨\n",
      "Martin_Boeddeker\n",
      "Interana\n",
      "Sabina Nawaz\n",
      "JV Crum III, JD, MBA\n",
      "Heather Heuman #SweetTeaSocial\n",
      "Marco Comastri\n",
      "Ahna Hendrix\n",
      "Sharon Collins\n",
      "Tiffany Tee World\n",
      "Beverly Walthour\n",
      "Hugh O. Smith\n",
      "Josh Elledge\n",
      "Datawatch\n",
      "Gitte Pedersen\n",
      "Mitch Jackson: Lawyer, Speaker and Consultant\n",
      "Marketing Show\n",
      "Edoardo Tosetti\n",
      "Nichole Elizabeth 🌻\n",
      "Your Digital Ally\n",
      "Web Presence\n",
      "Jimmy Fritz\n",
      "@38partnership\n",
      "DanaGarrison\n",
      "Colourful Owl\n",
      "Chris Casale\n",
      "BigCommerce\n",
      "Nika Stewart\n",
      "Mike Newkirk\n",
      "Pat McDaniel\n",
      "TeamLeap\n",
      "Arman\n",
      "Xiao-Feng Xie\n",
      "Chris Albon\n",
      "Allen Triplett\n",
      "King Rashaad Lambert"
     ]
    }
   ],
   "source": [
    "# Pagination\n",
    "# Iterate through all of the authenticated user's friends\n",
    "# Rate Error occurs\n",
    "\n",
    "def process_friend(sta):\n",
    "    print(sta.name)\n",
    "    \n",
    "for friend in tweepy.Cursor(api.friends).items(): \n",
    "    # Process the friend here \n",
    "    process_friend(friend)"
   ]
  },
  {
   "cell_type": "code",
   "execution_count": null,
   "metadata": {
    "collapsed": true
   },
   "outputs": [],
   "source": [
    "# Iterate through all of the authenticated user's friends\n",
    "# Rate Error occurs\n",
    "\n",
    "def process_friend2(sta):\n",
    "    print(sta.timeline)\n",
    "    \n",
    "for friend in tweepy.Cursor(api.friends).items(15): \n",
    "    # Process the friend here \n",
    "    process_friend2(friend)"
   ]
  },
  {
   "cell_type": "code",
   "execution_count": null,
   "metadata": {
    "collapsed": true
   },
   "outputs": [],
   "source": [
    "# Iterate through the first 200 statuses in the friends timeline\n",
    "# Get the public timeline\n",
    "twitter.statuses.public_timeline()"
   ]
  },
  {
   "cell_type": "code",
   "execution_count": null,
   "metadata": {
    "collapsed": true
   },
   "outputs": [],
   "source": []
  }
 ],
 "metadata": {
  "kernelspec": {
   "display_name": "Python 3",
   "language": "python",
   "name": "python3"
  },
  "language_info": {
   "codemirror_mode": {
    "name": "ipython",
    "version": 3
   },
   "file_extension": ".py",
   "mimetype": "text/x-python",
   "name": "python",
   "nbconvert_exporter": "python",
   "pygments_lexer": "ipython3",
   "version": "3.6.2"
  }
 },
 "nbformat": 4,
 "nbformat_minor": 2
}
